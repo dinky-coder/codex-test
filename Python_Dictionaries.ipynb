{
  "nbformat": 4,
  "nbformat_minor": 0,
  "metadata": {
    "colab": {
      "provenance": [],
      "authorship_tag": "ABX9TyPXvPmdg7U1Cwzr9XyETxod",
      "include_colab_link": true
    },
    "kernelspec": {
      "name": "python3",
      "display_name": "Python 3"
    },
    "language_info": {
      "name": "python"
    }
  },
  "cells": [
    {
      "cell_type": "markdown",
      "metadata": {
        "id": "view-in-github",
        "colab_type": "text"
      },
      "source": [
        "<a href=\"https://colab.research.google.com/github/dinky-coder/codex-test/blob/main/Python_Dictionaries.ipynb\" target=\"_parent\"><img src=\"https://colab.research.google.com/assets/colab-badge.svg\" alt=\"Open In Colab\"/></a>"
      ]
    },
    {
      "cell_type": "code",
      "execution_count": null,
      "metadata": {
        "id": "CNKc6yNse9G8"
      },
      "outputs": [],
      "source": [
        "# python data structures\n",
        "# List  - students= [stu1, stu2, stu3]\n",
        "#         students_roll_no = [1,2,3]\n",
        "#         student_address = [\"Noida\",\"Delhi\",\"Mumbai\"]"
      ]
    },
    {
      "cell_type": "code",
      "source": [
        "# dictionary - key:value pair\n",
        "# 1:stu1, 2:stu2"
      ],
      "metadata": {
        "id": "KvhFDeY7g1Ok"
      },
      "execution_count": null,
      "outputs": []
    },
    {
      "cell_type": "markdown",
      "source": [
        "Dictionaries use key-value pairs separated by a colon :. The syntax is {key1: value1, key2: value2, ...}.\n",
        "my_dictionary = {\"name\": \"Alice\", \"age\": 30}\n",
        "Sets contain only values (elements), and there are no key-value pairs. The syntax is {element1, element2, element3, ...}.\n",
        "my_set = {1, 2, 3, 4}"
      ],
      "metadata": {
        "id": "HQoeBdG4jQyp"
      }
    },
    {
      "cell_type": "code",
      "source": [
        "empty_dict = {}\n",
        "print(type(empty_dict))"
      ],
      "metadata": {
        "colab": {
          "base_uri": "https://localhost:8080/"
        },
        "id": "ocGGcO2Zg1LR",
        "outputId": "e0d82dc3-1181-4ab9-85d8-f647d1e0d50d"
      },
      "execution_count": 1,
      "outputs": [
        {
          "output_type": "stream",
          "name": "stdout",
          "text": [
            "<class 'dict'>\n"
          ]
        }
      ]
    },
    {
      "cell_type": "code",
      "source": [
        "empty_dict = dict()\n",
        "print(type(empty_dict))"
      ],
      "metadata": {
        "colab": {
          "base_uri": "https://localhost:8080/"
        },
        "id": "qiYhVLQLg1H5",
        "outputId": "77b73fe7-aeda-4841-e90a-dc4e005a5390"
      },
      "execution_count": 2,
      "outputs": [
        {
          "output_type": "stream",
          "name": "stdout",
          "text": [
            "<class 'dict'>\n"
          ]
        }
      ]
    },
    {
      "cell_type": "code",
      "source": [
        "student = {\"name\":\"Dhawal\",\"age\":24,\"grade\":\"A\"}\n",
        "print(student)"
      ],
      "metadata": {
        "colab": {
          "base_uri": "https://localhost:8080/"
        },
        "id": "Peojv_Z-g1E6",
        "outputId": "88b4b9a8-33a9-4e82-9f04-38805f9c27ac"
      },
      "execution_count": 3,
      "outputs": [
        {
          "output_type": "stream",
          "name": "stdout",
          "text": [
            "{'name': 'Dhawal', 'age': 24, 'grade': 'A'}\n"
          ]
        }
      ]
    },
    {
      "cell_type": "code",
      "source": [
        "student = dict(name=\"gfg\",age=24,grade=\"A\")\n",
        "print(student)"
      ],
      "metadata": {
        "colab": {
          "base_uri": "https://localhost:8080/"
        },
        "id": "SAQfuCbBg1BY",
        "outputId": "37a4afbf-ae19-4c3e-a9a1-6ca842d196bd"
      },
      "execution_count": 14,
      "outputs": [
        {
          "output_type": "stream",
          "name": "stdout",
          "text": [
            "{'name': 'gfg', 'age': 24, 'grade': 'A'}\n"
          ]
        }
      ]
    },
    {
      "cell_type": "code",
      "source": [
        "student[\"name\"]"
      ],
      "metadata": {
        "colab": {
          "base_uri": "https://localhost:8080/",
          "height": 35
        },
        "id": "yGOxPHhDg07H",
        "outputId": "dde2f665-4d59-4abc-fbaf-8ecf05407509"
      },
      "execution_count": 15,
      "outputs": [
        {
          "output_type": "execute_result",
          "data": {
            "text/plain": [
              "'gfg'"
            ],
            "application/vnd.google.colaboratory.intrinsic+json": {
              "type": "string"
            }
          },
          "metadata": {},
          "execution_count": 15
        }
      ]
    },
    {
      "cell_type": "code",
      "source": [
        "student[\"age\"]"
      ],
      "metadata": {
        "colab": {
          "base_uri": "https://localhost:8080/"
        },
        "id": "t47Syzlyg03y",
        "outputId": "715610c9-da27-46f8-acb6-3630ddde062f"
      },
      "execution_count": 12,
      "outputs": [
        {
          "output_type": "execute_result",
          "data": {
            "text/plain": [
              "24"
            ]
          },
          "metadata": {},
          "execution_count": 12
        }
      ]
    },
    {
      "cell_type": "code",
      "source": [
        "# get method\n",
        "student.get(\"name\")"
      ],
      "metadata": {
        "colab": {
          "base_uri": "https://localhost:8080/",
          "height": 35
        },
        "id": "hAseJlB0g01O",
        "outputId": "bdca4e45-fba3-4c61-9446-1fd05e7601ec"
      },
      "execution_count": 16,
      "outputs": [
        {
          "output_type": "execute_result",
          "data": {
            "text/plain": [
              "'gfg'"
            ],
            "application/vnd.google.colaboratory.intrinsic+json": {
              "type": "string"
            }
          },
          "metadata": {},
          "execution_count": 16
        }
      ]
    },
    {
      "cell_type": "code",
      "source": [
        "student.get(\"grade\")"
      ],
      "metadata": {
        "colab": {
          "base_uri": "https://localhost:8080/",
          "height": 35
        },
        "id": "qSrSIp9Kg00G",
        "outputId": "a2fd730f-3b93-4bbd-e061-1e09fd59ed64"
      },
      "execution_count": 17,
      "outputs": [
        {
          "output_type": "execute_result",
          "data": {
            "text/plain": [
              "'A'"
            ],
            "application/vnd.google.colaboratory.intrinsic+json": {
              "type": "string"
            }
          },
          "metadata": {},
          "execution_count": 17
        }
      ]
    },
    {
      "cell_type": "code",
      "source": [
        "student.get(\"lastname\")"
      ],
      "metadata": {
        "id": "fJqQycVUg0ua"
      },
      "execution_count": 18,
      "outputs": []
    },
    {
      "cell_type": "code",
      "source": [
        "student.get(\"lastname\",\"Not Available\") # default value"
      ],
      "metadata": {
        "colab": {
          "base_uri": "https://localhost:8080/",
          "height": 35
        },
        "id": "ugjsrx1Jg0p8",
        "outputId": "be72ae57-a7bd-47df-e0e0-ba7716503d5c"
      },
      "execution_count": 19,
      "outputs": [
        {
          "output_type": "execute_result",
          "data": {
            "text/plain": [
              "'Not Available'"
            ],
            "application/vnd.google.colaboratory.intrinsic+json": {
              "type": "string"
            }
          },
          "metadata": {},
          "execution_count": 19
        }
      ]
    },
    {
      "cell_type": "code",
      "source": [
        "student"
      ],
      "metadata": {
        "colab": {
          "base_uri": "https://localhost:8080/"
        },
        "id": "e7_eK2Gmg0kt",
        "outputId": "7864ddba-3454-4924-83de-f0da16525d0a"
      },
      "execution_count": 20,
      "outputs": [
        {
          "output_type": "execute_result",
          "data": {
            "text/plain": [
              "{'name': 'gfg', 'age': 24, 'grade': 'A'}"
            ]
          },
          "metadata": {},
          "execution_count": 20
        }
      ]
    },
    {
      "cell_type": "code",
      "source": [
        "# alter values\n",
        "student[\"name\"] = \"Dhawal\"\n",
        "student[\"age\"] = 26"
      ],
      "metadata": {
        "id": "Es4PvgKSk3rk"
      },
      "execution_count": 21,
      "outputs": []
    },
    {
      "cell_type": "code",
      "source": [
        "student[\"address\"] = \"Noida\"\n",
        "student"
      ],
      "metadata": {
        "colab": {
          "base_uri": "https://localhost:8080/"
        },
        "id": "_P79Gtzok3kx",
        "outputId": "0a77289d-a363-42e0-93e0-f4079d820d3f"
      },
      "execution_count": 22,
      "outputs": [
        {
          "output_type": "execute_result",
          "data": {
            "text/plain": [
              "{'name': 'Dhawal', 'age': 26, 'grade': 'A', 'address': 'Noida'}"
            ]
          },
          "metadata": {},
          "execution_count": 22
        }
      ]
    },
    {
      "cell_type": "code",
      "source": [
        "del student[\"grade\"]\n"
      ],
      "metadata": {
        "colab": {
          "base_uri": "https://localhost:8080/",
          "height": 141
        },
        "id": "Xt5DCRppk3gO",
        "outputId": "fb14511f-4711-4c22-9607-3033d106ef05"
      },
      "execution_count": 28,
      "outputs": [
        {
          "output_type": "error",
          "ename": "KeyError",
          "evalue": "'grade'",
          "traceback": [
            "\u001b[0;31m---------------------------------------------------------------------------\u001b[0m",
            "\u001b[0;31mKeyError\u001b[0m                                  Traceback (most recent call last)",
            "\u001b[0;32m/tmp/ipython-input-28-2738891178.py\u001b[0m in \u001b[0;36m<cell line: 0>\u001b[0;34m()\u001b[0m\n\u001b[0;32m----> 1\u001b[0;31m \u001b[0;32mdel\u001b[0m \u001b[0mstudent\u001b[0m\u001b[0;34m[\u001b[0m\u001b[0;34m\"grade\"\u001b[0m\u001b[0;34m]\u001b[0m\u001b[0;34m\u001b[0m\u001b[0;34m\u001b[0m\u001b[0m\n\u001b[0m",
            "\u001b[0;31mKeyError\u001b[0m: 'grade'"
          ]
        }
      ]
    },
    {
      "cell_type": "code",
      "source": [
        "student"
      ],
      "metadata": {
        "colab": {
          "base_uri": "https://localhost:8080/"
        },
        "id": "7IS5tZtNk3br",
        "outputId": "b0bd1e81-4ec1-4aef-9fc3-04243887b9cd"
      },
      "execution_count": 24,
      "outputs": [
        {
          "output_type": "execute_result",
          "data": {
            "text/plain": [
              "{'name': 'Dhawal', 'age': 26, 'address': 'Noida'}"
            ]
          },
          "metadata": {},
          "execution_count": 24
        }
      ]
    },
    {
      "cell_type": "code",
      "source": [
        "student.values()\n"
      ],
      "metadata": {
        "colab": {
          "base_uri": "https://localhost:8080/"
        },
        "id": "9XqldvSuk3W8",
        "outputId": "b9b344dd-3f85-4e53-ab9b-49ba94c61388"
      },
      "execution_count": 30,
      "outputs": [
        {
          "output_type": "execute_result",
          "data": {
            "text/plain": [
              "dict_values(['Dhawal', 26, 'Noida'])"
            ]
          },
          "metadata": {},
          "execution_count": 30
        }
      ]
    },
    {
      "cell_type": "code",
      "source": [
        "student.items()"
      ],
      "metadata": {
        "colab": {
          "base_uri": "https://localhost:8080/"
        },
        "id": "BmHC2zMFk3SV",
        "outputId": "11b91bcb-81ba-456a-9a5a-6e0098e5c0bf"
      },
      "execution_count": 31,
      "outputs": [
        {
          "output_type": "execute_result",
          "data": {
            "text/plain": [
              "dict_items([('name', 'Dhawal'), ('age', 26), ('address', 'Noida')])"
            ]
          },
          "metadata": {},
          "execution_count": 31
        }
      ]
    },
    {
      "cell_type": "code",
      "source": [
        "# concept of shallow copy\n",
        "student_copy = student\n",
        "student_copy\n"
      ],
      "metadata": {
        "colab": {
          "base_uri": "https://localhost:8080/"
        },
        "id": "_0274eR6k3MU",
        "outputId": "03399ff3-718f-4f48-d10f-aa03ea0e0fc9"
      },
      "execution_count": 32,
      "outputs": [
        {
          "output_type": "execute_result",
          "data": {
            "text/plain": [
              "{'name': 'Dhawal', 'age': 26, 'address': 'Noida'}"
            ]
          },
          "metadata": {},
          "execution_count": 32
        }
      ]
    },
    {
      "cell_type": "code",
      "source": [
        "student[\"name\"] = \"Dhawal2.0\""
      ],
      "metadata": {
        "id": "vYuDjI-ok3Eg"
      },
      "execution_count": 33,
      "outputs": []
    },
    {
      "cell_type": "code",
      "source": [
        "print(student)\n",
        "print(student_copy)"
      ],
      "metadata": {
        "colab": {
          "base_uri": "https://localhost:8080/"
        },
        "id": "x_ei7bx0k26W",
        "outputId": "1c4edfba-dc0f-48f1-a7aa-79f2f75cbb4a"
      },
      "execution_count": 34,
      "outputs": [
        {
          "output_type": "stream",
          "name": "stdout",
          "text": [
            "{'name': 'Dhawal2.0', 'age': 26, 'address': 'Noida'}\n",
            "{'name': 'Dhawal2.0', 'age': 26, 'address': 'Noida'}\n"
          ]
        }
      ]
    },
    {
      "cell_type": "code",
      "source": [
        "student_copy1 = student.copy()\n",
        "student_copy1"
      ],
      "metadata": {
        "colab": {
          "base_uri": "https://localhost:8080/"
        },
        "id": "oMQtWpxHnCnG",
        "outputId": "8329ff35-2333-4e56-b849-824e9bc2af1e"
      },
      "execution_count": 35,
      "outputs": [
        {
          "output_type": "execute_result",
          "data": {
            "text/plain": [
              "{'name': 'Dhawal2.0', 'age': 26, 'address': 'Noida'}"
            ]
          },
          "metadata": {},
          "execution_count": 35
        }
      ]
    },
    {
      "cell_type": "code",
      "source": [
        "student[\"name\"] = \"Dhawal3.0\""
      ],
      "metadata": {
        "id": "AkMEppKfnChb"
      },
      "execution_count": 36,
      "outputs": []
    },
    {
      "cell_type": "code",
      "source": [
        "print(student)\n",
        "print(student_copy1)"
      ],
      "metadata": {
        "colab": {
          "base_uri": "https://localhost:8080/"
        },
        "id": "li2lGfXznCdp",
        "outputId": "cda34dcd-080b-4ac9-cdb0-cafe2bf4cd80"
      },
      "execution_count": 37,
      "outputs": [
        {
          "output_type": "stream",
          "name": "stdout",
          "text": [
            "{'name': 'Dhawal3.0', 'age': 26, 'address': 'Noida'}\n",
            "{'name': 'Dhawal2.0', 'age': 26, 'address': 'Noida'}\n"
          ]
        }
      ]
    },
    {
      "cell_type": "code",
      "source": [
        "print(student_copy)"
      ],
      "metadata": {
        "colab": {
          "base_uri": "https://localhost:8080/"
        },
        "id": "tNx2_QE6nCal",
        "outputId": "b2710b36-ae0d-4dae-a860-52ca2638f93d"
      },
      "execution_count": 38,
      "outputs": [
        {
          "output_type": "stream",
          "name": "stdout",
          "text": [
            "{'name': 'Dhawal3.0', 'age': 26, 'address': 'Noida'}\n"
          ]
        }
      ]
    },
    {
      "cell_type": "code",
      "source": [
        "# iteration\n",
        "for i in student:\n",
        "    print(i)"
      ],
      "metadata": {
        "colab": {
          "base_uri": "https://localhost:8080/"
        },
        "id": "Xeavq3u4nCXQ",
        "outputId": "c414a14a-d8bb-4e6b-88b6-ef279cff24cd"
      },
      "execution_count": 39,
      "outputs": [
        {
          "output_type": "stream",
          "name": "stdout",
          "text": [
            "name\n",
            "age\n",
            "address\n"
          ]
        }
      ]
    },
    {
      "cell_type": "code",
      "source": [
        "for j in student.values():\n",
        "    print(j)"
      ],
      "metadata": {
        "colab": {
          "base_uri": "https://localhost:8080/"
        },
        "id": "e06_BmGtnCOT",
        "outputId": "8dfdc415-2cdb-454a-802e-5d2da5f0b087"
      },
      "execution_count": 40,
      "outputs": [
        {
          "output_type": "stream",
          "name": "stdout",
          "text": [
            "Dhawal3.0\n",
            "26\n",
            "Noida\n"
          ]
        }
      ]
    },
    {
      "cell_type": "code",
      "source": [
        "for i,j in student.items():\n",
        "    print(i,j)"
      ],
      "metadata": {
        "colab": {
          "base_uri": "https://localhost:8080/"
        },
        "id": "_AtQFTfbnCJi",
        "outputId": "68073d10-27eb-47d8-d0e0-5b934ac321a0"
      },
      "execution_count": 43,
      "outputs": [
        {
          "output_type": "stream",
          "name": "stdout",
          "text": [
            "name Dhawal3.0\n",
            "age 26\n",
            "address Noida\n"
          ]
        }
      ]
    },
    {
      "cell_type": "code",
      "source": [
        "for i,j in student.items():\n",
        "    print(f\"{i}:{j}\")"
      ],
      "metadata": {
        "colab": {
          "base_uri": "https://localhost:8080/"
        },
        "id": "HTH2Ui8tnCIB",
        "outputId": "67569b9a-11ce-4488-cda2-09507c60b016"
      },
      "execution_count": 45,
      "outputs": [
        {
          "output_type": "stream",
          "name": "stdout",
          "text": [
            "name:Dhawal3.0\n",
            "age:26\n",
            "address:Noida\n"
          ]
        }
      ]
    },
    {
      "cell_type": "code",
      "source": [
        "# nested dictionaries\n",
        "student = {\"student1\":{\"name\":\"Dhawal\",\"age\":24},\n",
        "           \"student2\":{\"name\":\"Harsh\",\"age\":25}}"
      ],
      "metadata": {
        "id": "iVKaLO5UnB_A"
      },
      "execution_count": 47,
      "outputs": []
    },
    {
      "cell_type": "code",
      "source": [
        "print(student[\"student1\"][\"name\"])"
      ],
      "metadata": {
        "colab": {
          "base_uri": "https://localhost:8080/"
        },
        "id": "xQ4_xuqanB2W",
        "outputId": "a65bd772-0b23-4f33-a74e-333f37e6a562"
      },
      "execution_count": 48,
      "outputs": [
        {
          "output_type": "stream",
          "name": "stdout",
          "text": [
            "Dhawal\n"
          ]
        }
      ]
    },
    {
      "cell_type": "code",
      "source": [
        "student[\"student2\"][\"age\"]"
      ],
      "metadata": {
        "colab": {
          "base_uri": "https://localhost:8080/"
        },
        "id": "odDyp2Boob4L",
        "outputId": "236c7e8b-e801-453d-c9cb-7a5d9847478b"
      },
      "execution_count": 49,
      "outputs": [
        {
          "output_type": "execute_result",
          "data": {
            "text/plain": [
              "25"
            ]
          },
          "metadata": {},
          "execution_count": 49
        }
      ]
    },
    {
      "cell_type": "code",
      "source": [
        "# iterate in nested dictionary"
      ],
      "metadata": {
        "id": "h8tWa8M4ob0L"
      },
      "execution_count": null,
      "outputs": []
    },
    {
      "cell_type": "code",
      "source": [
        "for student_id, student_info in student.items():\n",
        "    print(f\"{student_id}:{student_info}\")\n",
        "    for key, value in student_info.items():\n",
        "        print(f\"{key}:{value}\")"
      ],
      "metadata": {
        "colab": {
          "base_uri": "https://localhost:8080/"
        },
        "id": "LHFMRyXjobwt",
        "outputId": "b827c609-6162-4603-cef0-8ee15de3c3f9"
      },
      "execution_count": 51,
      "outputs": [
        {
          "output_type": "stream",
          "name": "stdout",
          "text": [
            "student1:{'name': 'Dhawal', 'age': 24}\n",
            "name:Dhawal\n",
            "age:24\n",
            "student2:{'name': 'Harsh', 'age': 25}\n",
            "name:Harsh\n",
            "age:25\n"
          ]
        }
      ]
    },
    {
      "cell_type": "code",
      "source": [
        "# dictionary comprehension\n",
        "squares = {x:x**2 for x in range(5)}\n",
        "squares"
      ],
      "metadata": {
        "colab": {
          "base_uri": "https://localhost:8080/"
        },
        "id": "LWQ3lmLCobvT",
        "outputId": "4fae6bd9-402a-47af-9833-952564f8c18e"
      },
      "execution_count": 52,
      "outputs": [
        {
          "output_type": "execute_result",
          "data": {
            "text/plain": [
              "{0: 0, 1: 1, 2: 4, 3: 9, 4: 16}"
            ]
          },
          "metadata": {},
          "execution_count": 52
        }
      ]
    },
    {
      "cell_type": "code",
      "source": [
        "even = {x:x**2 for x in range(10) if x%2==0}\n",
        "even"
      ],
      "metadata": {
        "colab": {
          "base_uri": "https://localhost:8080/"
        },
        "id": "5UbLvzLFobm3",
        "outputId": "ebb4ed04-7f71-4aab-b92c-47fba6d15a41"
      },
      "execution_count": 53,
      "outputs": [
        {
          "output_type": "execute_result",
          "data": {
            "text/plain": [
              "{0: 0, 2: 4, 4: 16, 6: 36, 8: 64}"
            ]
          },
          "metadata": {},
          "execution_count": 53
        }
      ]
    },
    {
      "cell_type": "code",
      "source": [
        "# count of elements using a dictionary\n",
        "numbers = [1,1,1,2,2,2,2,2,2,2,3,3,3,3,4,4,4,4,4,5]\n",
        "count={}\n",
        "\n",
        "for i in numbers:\n",
        "    if i in count:\n",
        "        count[i] = count[i] + 1\n",
        "    else:\n",
        "        count[i] = 1\n",
        "\n",
        "print(count)"
      ],
      "metadata": {
        "colab": {
          "base_uri": "https://localhost:8080/"
        },
        "id": "Ph0cNEFWobhf",
        "outputId": "437b71ca-d0a9-4073-c6a7-3d9a62c12178"
      },
      "execution_count": 56,
      "outputs": [
        {
          "output_type": "stream",
          "name": "stdout",
          "text": [
            "{1: 3, 2: 7, 3: 4, 4: 5, 5: 1}\n"
          ]
        }
      ]
    },
    {
      "cell_type": "code",
      "source": [
        "# Question: You are given a list of integers representing the IDs of students who have signed up for an event, but some students have signed up\n",
        "# multiple times by mistake. Your task is to:\n",
        "# Remove duplicates to get the unique IDs of students who signed up. Identify students who have both signed up and attended the event (IDs)\n",
        "# are given in a separate list of attendees). Classify each student as: \"Attended\" if they signed up and attended. \"No-show\" if they signed up but\n",
        "# did not attend. Finally, print a summary showing the count of \"Attended\" and \"No-Show\" students. Input:\n",
        "# A list of integers signups, where each element represents a student ID who signed up for the event. (It may contain duplicates.) A list of\n",
        "# integers attendees, where each element represents a student ID who attended the event. Output: Print each unique student ID along with its\n",
        "# status (\"Attended\" or \"No-show\") and a summary like the example below.\n",
        "\n",
        "signups = [101, 102, 103, 101, 104, 105, 102]\n",
        "attendees = [102, 103, 104]\n",
        "\n",
        "101 : Attended\n",
        "102 : Attended\n",
        "103 : No-show\n",
        "104 : Attended\n",
        "105 : No-show"
      ],
      "metadata": {
        "id": "stA2Q7_oobaX"
      },
      "execution_count": null,
      "outputs": []
    },
    {
      "cell_type": "markdown",
      "metadata": {
        "id": "76cafb2f"
      },
      "source": [
        "# Task\n",
        "Analyze the provided `signups` and `attendees` lists to determine which students attended and which were no-shows. The output should list each unique student ID from the signups and their status (\"Attended\" or \"No-show\"), followed by the total counts of attended and no-show students."
      ]
    },
    {
      "cell_type": "markdown",
      "metadata": {
        "id": "4f32e52f"
      },
      "source": [
        "## Remove duplicates from signups\n",
        "\n",
        "### Subtask:\n",
        "Use a set to get the unique student IDs from the `signups` list.\n"
      ]
    },
    {
      "cell_type": "markdown",
      "metadata": {
        "id": "5f303e02"
      },
      "source": [
        "**Reasoning**:\n",
        "Convert the signups list to a set to get unique student IDs.\n",
        "\n"
      ]
    },
    {
      "cell_type": "code",
      "metadata": {
        "colab": {
          "base_uri": "https://localhost:8080/",
          "height": 158
        },
        "id": "77aabdb4",
        "outputId": "5ba5eca1-778f-49bb-b6ad-6654400d600e"
      },
      "source": [
        "unique_signups = set(signups)\n",
        "print(unique_signups)"
      ],
      "execution_count": 57,
      "outputs": [
        {
          "output_type": "error",
          "ename": "NameError",
          "evalue": "name 'signups' is not defined",
          "traceback": [
            "\u001b[0;31m---------------------------------------------------------------------------\u001b[0m",
            "\u001b[0;31mNameError\u001b[0m                                 Traceback (most recent call last)",
            "\u001b[0;32m/tmp/ipython-input-57-2239560084.py\u001b[0m in \u001b[0;36m<cell line: 0>\u001b[0;34m()\u001b[0m\n\u001b[0;32m----> 1\u001b[0;31m \u001b[0munique_signups\u001b[0m \u001b[0;34m=\u001b[0m \u001b[0mset\u001b[0m\u001b[0;34m(\u001b[0m\u001b[0msignups\u001b[0m\u001b[0;34m)\u001b[0m\u001b[0;34m\u001b[0m\u001b[0;34m\u001b[0m\u001b[0m\n\u001b[0m\u001b[1;32m      2\u001b[0m \u001b[0mprint\u001b[0m\u001b[0;34m(\u001b[0m\u001b[0munique_signups\u001b[0m\u001b[0;34m)\u001b[0m\u001b[0;34m\u001b[0m\u001b[0;34m\u001b[0m\u001b[0m\n",
            "\u001b[0;31mNameError\u001b[0m: name 'signups' is not defined"
          ]
        }
      ]
    },
    {
      "cell_type": "markdown",
      "metadata": {
        "id": "277ae18e"
      },
      "source": [
        "**Reasoning**:\n",
        "The variable `signups` was not defined in the previous code block. Define the `signups` and `attendees` lists as provided in the problem description and then convert the `signups` list to a set.\n",
        "\n"
      ]
    },
    {
      "cell_type": "code",
      "metadata": {
        "colab": {
          "base_uri": "https://localhost:8080/"
        },
        "id": "sJfLdFJBxTyE",
        "outputId": "24ae0056-c2be-48a9-d7f0-99115ed0ce46"
      },
      "source": [
        "signups = [101, 102, 103, 101, 104, 105, 102]\n",
        "attendees = [102, 103, 104]\n",
        "unique_signups = set(signups)\n",
        "print(unique_signups)"
      ],
      "execution_count": 58,
      "outputs": [
        {
          "output_type": "stream",
          "name": "stdout",
          "text": [
            "{101, 102, 103, 104, 105}\n"
          ]
        }
      ]
    },
    {
      "cell_type": "markdown",
      "metadata": {
        "id": "4fbfdefe"
      },
      "source": [
        "## Create a set of attendees\n",
        "\n",
        "### Subtask:\n",
        "Convert the `attendees` list into a set for efficient checking of attendance.\n"
      ]
    },
    {
      "cell_type": "markdown",
      "metadata": {
        "id": "2825111d"
      },
      "source": [
        "**Reasoning**:\n",
        "Convert the attendees list to a set for efficient lookups and print it to verify the conversion.\n",
        "\n"
      ]
    },
    {
      "cell_type": "code",
      "metadata": {
        "colab": {
          "base_uri": "https://localhost:8080/"
        },
        "id": "0259fe46",
        "outputId": "9b02e28b-c21b-45af-f604-b6bfd7340f6e"
      },
      "source": [
        "attended_set = set(attendees)\n",
        "print(attended_set)"
      ],
      "execution_count": 59,
      "outputs": [
        {
          "output_type": "stream",
          "name": "stdout",
          "text": [
            "{104, 102, 103}\n"
          ]
        }
      ]
    },
    {
      "cell_type": "markdown",
      "metadata": {
        "id": "42a23540"
      },
      "source": [
        "## Classify students and count\n",
        "\n",
        "### Subtask:\n",
        "Iterate through the unique sign-ups. For each student ID, check if it's in the attendees set. Based on this check, classify the student as \"Attended\" or \"No-show\" and store the results, possibly in a dictionary. Also, maintain counts of \"Attended\" and \"No-show\" students.\n"
      ]
    },
    {
      "cell_type": "markdown",
      "metadata": {
        "id": "a1a4a2d9"
      },
      "source": [
        "**Reasoning**:\n",
        "Initialize the dictionary and counters, then iterate through the unique signups to classify students and update the counts.\n",
        "\n"
      ]
    },
    {
      "cell_type": "code",
      "metadata": {
        "colab": {
          "base_uri": "https://localhost:8080/"
        },
        "id": "5d496940",
        "outputId": "f7d3292a-a72a-4606-8c2d-9eeb31332097"
      },
      "source": [
        "student_status = {}\n",
        "attended_count = 0\n",
        "no_show_count = 0\n",
        "\n",
        "for student_id in unique_signups:\n",
        "    if student_id in attended_set:\n",
        "        student_status[student_id] = \"Attended\"\n",
        "        attended_count += 1\n",
        "    else:\n",
        "        student_status[student_id] = \"No-show\"\n",
        "        no_show_count += 1\n",
        "\n",
        "print(student_status)\n",
        "print(f\"Attended Count: {attended_count}\")\n",
        "print(f\"No-show Count: {no_show_count}\")"
      ],
      "execution_count": 60,
      "outputs": [
        {
          "output_type": "stream",
          "name": "stdout",
          "text": [
            "{101: 'No-show', 102: 'Attended', 103: 'Attended', 104: 'Attended', 105: 'No-show'}\n",
            "Attended Count: 3\n",
            "No-show Count: 2\n"
          ]
        }
      ]
    },
    {
      "cell_type": "markdown",
      "metadata": {
        "id": "acbcebdb"
      },
      "source": [
        "## Print results\n",
        "\n",
        "### Subtask:\n",
        "Print each unique student ID and their status, followed by the total counts of \"Attended\" and \"No-show\" students in the specified format.\n"
      ]
    },
    {
      "cell_type": "markdown",
      "metadata": {
        "id": "3c8bc682"
      },
      "source": [
        "**Reasoning**:\n",
        "Iterate through the student_status dictionary and print the student ID and status, then print the total counts of attended and no-show students.\n",
        "\n"
      ]
    },
    {
      "cell_type": "code",
      "metadata": {
        "colab": {
          "base_uri": "https://localhost:8080/"
        },
        "id": "76618458",
        "outputId": "c2703ff6-5a56-4eed-824c-2a1642c280aa"
      },
      "source": [
        "for student_id, status in student_status.items():\n",
        "    print(f\"{student_id} : {status}\")\n",
        "\n",
        "print(f\"Attended Count: {attended_count}\")\n",
        "print(f\"No-show Count: {no_show_count}\")"
      ],
      "execution_count": 61,
      "outputs": [
        {
          "output_type": "stream",
          "name": "stdout",
          "text": [
            "101 : No-show\n",
            "102 : Attended\n",
            "103 : Attended\n",
            "104 : Attended\n",
            "105 : No-show\n",
            "Attended Count: 3\n",
            "No-show Count: 2\n"
          ]
        }
      ]
    },
    {
      "cell_type": "markdown",
      "metadata": {
        "id": "ed984f8d"
      },
      "source": [
        "## Summary:\n",
        "\n",
        "### Data Analysis Key Findings\n",
        "\n",
        "*   The unique student IDs who signed up were identified as {101, 102, 103, 104, 105}.\n",
        "*   The student IDs who attended were {102, 103, 104}.\n",
        "*   Based on the analysis, the status of each unique student is:\n",
        "    *   101: No-show\n",
        "    *   102: Attended\n",
        "    *   103: Attended\n",
        "    *   104: Attended\n",
        "    *   105: No-show\n",
        "*   The total count of attended students is 3.\n",
        "*   The total count of no-show students is 2.\n",
        "\n",
        "### Insights or Next Steps\n",
        "\n",
        "*   The analysis successfully classified each unique signup as either attended or a no-show.\n",
        "*   This information could be used to follow up with no-show students or analyze attendance patterns for future events.\n"
      ]
    },
    {
      "cell_type": "code",
      "source": [
        "signups = [101, 102, 103, 104, 102, 105, 103, 106, 107]\n",
        "attendees = [101, 102, 103, 103, 105, 106]\n",
        "\n",
        "unique_signups = set(signups)\n",
        "unique_attendees = set(attendees)\n",
        "\n",
        "attendees_count = 0\n",
        "no_show_count = 0\n",
        "\n",
        "for i in unique_signups:\n",
        "    if i in unique_attendees:\n",
        "        print(f\"{i} : Attended\")\n",
        "        attendees_count += 1\n",
        "    else:\n",
        "        print(f\"{i} : No-show\")\n",
        "        no_show_count += 1\n",
        "\n",
        "print(\"summary\")\n",
        "print(f\"attended: {attendees_count}\")\n",
        "print(f\"no show: {no_show_count}\")\n"
      ],
      "metadata": {
        "colab": {
          "base_uri": "https://localhost:8080/"
        },
        "id": "rf45JPtvx0YF",
        "outputId": "6b1774ba-739c-47dd-f80f-ab271e8af622"
      },
      "execution_count": 63,
      "outputs": [
        {
          "output_type": "stream",
          "name": "stdout",
          "text": [
            "101 : Attended\n",
            "102 : Attended\n",
            "103 : Attended\n",
            "104 : No-show\n",
            "105 : Attended\n",
            "106 : Attended\n",
            "107 : No-show\n",
            "summary\n",
            "attended: 5\n",
            "no show: 2\n"
          ]
        }
      ]
    },
    {
      "cell_type": "markdown",
      "source": [
        "Unique Common Elements Problem: You are given two lists of integers. Write a program to:\n",
        "Find the unique common elements between the two lists. Print these common elements in sorted order. If there are no common elements, print \"No common elements.\""
      ],
      "metadata": {
        "id": "c6eadLln0s3Y"
      }
    },
    {
      "cell_type": "code",
      "source": [
        "list1 = [1,2,3,4,5,6,7,8]\n",
        "list2 = [3,5,1,7,8,10,12]"
      ],
      "metadata": {
        "id": "u3Nj63s80MTB"
      },
      "execution_count": null,
      "outputs": []
    },
    {
      "cell_type": "code",
      "source": [],
      "metadata": {
        "id": "pgm9rcM20MPg"
      },
      "execution_count": null,
      "outputs": []
    },
    {
      "cell_type": "code",
      "source": [],
      "metadata": {
        "id": "Aqbs2VCG0MMt"
      },
      "execution_count": null,
      "outputs": []
    },
    {
      "cell_type": "code",
      "source": [],
      "metadata": {
        "id": "8E0JDpga0MFf"
      },
      "execution_count": null,
      "outputs": []
    },
    {
      "cell_type": "code",
      "source": [],
      "metadata": {
        "id": "jOukiRky0L6t"
      },
      "execution_count": null,
      "outputs": []
    },
    {
      "cell_type": "markdown",
      "metadata": {
        "id": "f2639194"
      },
      "source": [
        "# Task\n",
        "Code the Unique Common Elements Problem: You are given two lists of integers. Write a program to: Find the unique common elements between the two lists. Print these common elements in sorted order. If there are no common elements, print \"No common elements.\""
      ]
    },
    {
      "cell_type": "markdown",
      "metadata": {
        "id": "c5761bfe"
      },
      "source": [
        "## Convert lists to sets\n",
        "\n",
        "### Subtask:\n",
        "Convert `list1` and `list2` into sets to easily find the common elements.\n"
      ]
    },
    {
      "cell_type": "markdown",
      "metadata": {
        "id": "0f731f01"
      },
      "source": [
        "**Reasoning**:\n",
        "Convert the two lists into sets to prepare for finding common elements.\n",
        "\n"
      ]
    },
    {
      "cell_type": "code",
      "metadata": {
        "colab": {
          "base_uri": "https://localhost:8080/",
          "height": 193
        },
        "id": "21c30313",
        "outputId": "48124826-523a-480f-cba2-247469bfecc7"
      },
      "source": [
        "set1 = set(list1)\n",
        "set2 = set(list2)\n",
        "print(set1)\n",
        "print(set2)"
      ],
      "execution_count": 64,
      "outputs": [
        {
          "output_type": "error",
          "ename": "NameError",
          "evalue": "name 'list1' is not defined",
          "traceback": [
            "\u001b[0;31m---------------------------------------------------------------------------\u001b[0m",
            "\u001b[0;31mNameError\u001b[0m                                 Traceback (most recent call last)",
            "\u001b[0;32m/tmp/ipython-input-64-421817968.py\u001b[0m in \u001b[0;36m<cell line: 0>\u001b[0;34m()\u001b[0m\n\u001b[0;32m----> 1\u001b[0;31m \u001b[0mset1\u001b[0m \u001b[0;34m=\u001b[0m \u001b[0mset\u001b[0m\u001b[0;34m(\u001b[0m\u001b[0mlist1\u001b[0m\u001b[0;34m)\u001b[0m\u001b[0;34m\u001b[0m\u001b[0;34m\u001b[0m\u001b[0m\n\u001b[0m\u001b[1;32m      2\u001b[0m \u001b[0mset2\u001b[0m \u001b[0;34m=\u001b[0m \u001b[0mset\u001b[0m\u001b[0;34m(\u001b[0m\u001b[0mlist2\u001b[0m\u001b[0;34m)\u001b[0m\u001b[0;34m\u001b[0m\u001b[0;34m\u001b[0m\u001b[0m\n\u001b[1;32m      3\u001b[0m \u001b[0mprint\u001b[0m\u001b[0;34m(\u001b[0m\u001b[0mset1\u001b[0m\u001b[0;34m)\u001b[0m\u001b[0;34m\u001b[0m\u001b[0;34m\u001b[0m\u001b[0m\n\u001b[1;32m      4\u001b[0m \u001b[0mprint\u001b[0m\u001b[0;34m(\u001b[0m\u001b[0mset2\u001b[0m\u001b[0;34m)\u001b[0m\u001b[0;34m\u001b[0m\u001b[0;34m\u001b[0m\u001b[0m\n",
            "\u001b[0;31mNameError\u001b[0m: name 'list1' is not defined"
          ]
        }
      ]
    },
    {
      "cell_type": "markdown",
      "metadata": {
        "id": "6cbec07a"
      },
      "source": [
        "**Reasoning**:\n",
        "The lists were not defined in the current session. Define the lists and then convert them to sets.\n",
        "\n"
      ]
    },
    {
      "cell_type": "code",
      "metadata": {
        "colab": {
          "base_uri": "https://localhost:8080/"
        },
        "id": "d3JZDRc31Q8U",
        "outputId": "7e75a3de-b122-492a-da78-4262c49dbb41"
      },
      "source": [
        "list1 = [1,2,3,4,5,6,7,8]\n",
        "list2 = [3,5,1,7,8,10,12]\n",
        "set1 = set(list1)\n",
        "set2 = set(list2)\n",
        "print(set1)\n",
        "print(set2)"
      ],
      "execution_count": 65,
      "outputs": [
        {
          "output_type": "stream",
          "name": "stdout",
          "text": [
            "{1, 2, 3, 4, 5, 6, 7, 8}\n",
            "{1, 3, 5, 7, 8, 10, 12}\n"
          ]
        }
      ]
    },
    {
      "cell_type": "markdown",
      "metadata": {
        "id": "a0a645d8"
      },
      "source": [
        "## Find common elements\n",
        "\n",
        "### Subtask:\n",
        "Use set intersection to find the elements that are present in both sets.\n"
      ]
    },
    {
      "cell_type": "markdown",
      "metadata": {
        "id": "d7e44162"
      },
      "source": [
        "**Reasoning**:\n",
        "Find the intersection of `set1` and `set2` using the `&` operator and store the result in `common_elements`, then print the result.\n",
        "\n"
      ]
    },
    {
      "cell_type": "code",
      "metadata": {
        "colab": {
          "base_uri": "https://localhost:8080/"
        },
        "id": "7a26b094",
        "outputId": "7ce94339-583f-431d-c9d2-b720e3018dfc"
      },
      "source": [
        "common_elements = set1 & set2\n",
        "print(common_elements)"
      ],
      "execution_count": 66,
      "outputs": [
        {
          "output_type": "stream",
          "name": "stdout",
          "text": [
            "{1, 3, 5, 7, 8}\n"
          ]
        }
      ]
    },
    {
      "cell_type": "markdown",
      "metadata": {
        "id": "ba379130"
      },
      "source": [
        "## Sort common elements\n",
        "\n",
        "### Subtask:\n",
        "Convert the set of common elements back into a list and sort it in ascending order.\n"
      ]
    },
    {
      "cell_type": "markdown",
      "metadata": {
        "id": "42137511"
      },
      "source": [
        "**Reasoning**:\n",
        "Convert the set of common elements to a list, sort it, and print the sorted list.\n",
        "\n"
      ]
    },
    {
      "cell_type": "code",
      "metadata": {
        "colab": {
          "base_uri": "https://localhost:8080/"
        },
        "id": "3a6f9c6b",
        "outputId": "dc4df3a9-1140-48c3-a78b-c598db67b94b"
      },
      "source": [
        "sorted_common_elements = sorted(list(common_elements))\n",
        "print(sorted_common_elements)"
      ],
      "execution_count": 67,
      "outputs": [
        {
          "output_type": "stream",
          "name": "stdout",
          "text": [
            "[1, 3, 5, 7, 8]\n"
          ]
        }
      ]
    },
    {
      "cell_type": "markdown",
      "metadata": {
        "id": "6e673cf4"
      },
      "source": [
        "## Print results\n",
        "\n",
        "### Subtask:\n",
        "Check if there are any common elements. If there are, print them in sorted order. If there are no common elements, print \"No common elements.\"\n"
      ]
    },
    {
      "cell_type": "markdown",
      "metadata": {
        "id": "aedb00cc"
      },
      "source": [
        "**Reasoning**:\n",
        "Check if the sorted_common_elements list is empty and print the appropriate output based on the result.\n",
        "\n"
      ]
    },
    {
      "cell_type": "code",
      "metadata": {
        "colab": {
          "base_uri": "https://localhost:8080/"
        },
        "id": "2d4fd861",
        "outputId": "5f9f5a74-253f-4dce-8c5f-5c334a1d9139"
      },
      "source": [
        "if sorted_common_elements:\n",
        "    for element in sorted_common_elements:\n",
        "        print(element)\n",
        "else:\n",
        "    print(\"No common elements.\")"
      ],
      "execution_count": 68,
      "outputs": [
        {
          "output_type": "stream",
          "name": "stdout",
          "text": [
            "1\n",
            "3\n",
            "5\n",
            "7\n",
            "8\n"
          ]
        }
      ]
    },
    {
      "cell_type": "markdown",
      "metadata": {
        "id": "d7171863"
      },
      "source": [
        "## Summary:\n",
        "\n",
        "### Data Analysis Key Findings\n",
        "* The unique common elements between `list1` and `list2` are {1, 3, 5, 7, 8}.\n",
        "* When sorted in ascending order, the common elements are [1, 3, 5, 7, 8].\n",
        "\n",
        "### Insights or Next Steps\n",
        "* The use of sets provides an efficient way to find unique common elements through intersection.\n",
        "* The sorted list of common elements can be used for further analysis or display as required by the specific problem context.\n"
      ]
    },
    {
      "cell_type": "code",
      "source": [
        "list1 = [1,2,3,4,5,6,7,8]\n",
        "list2 = [3,5,1,7,8,10,12]\n",
        "\n",
        "un_list1 = set(list1)\n",
        "un_list2 = set(list2)\n",
        "\n",
        "common_elements = un_list1.intersection(un_list2)\n",
        "\n",
        "if common_elements:\n",
        "  print(sorted(list(common_elements)))\n",
        "else:\n",
        "  print(\"No common elements\")"
      ],
      "metadata": {
        "colab": {
          "base_uri": "https://localhost:8080/"
        },
        "id": "MWmLSQjz1qph",
        "outputId": "38bbc73a-fb60-4915-aebc-b36aeb701118"
      },
      "execution_count": 73,
      "outputs": [
        {
          "output_type": "stream",
          "name": "stdout",
          "text": [
            "[1, 3, 5, 7, 8]\n"
          ]
        }
      ]
    },
    {
      "cell_type": "code",
      "source": [],
      "metadata": {
        "id": "2lMS36Nn1tcc"
      },
      "execution_count": null,
      "outputs": []
    },
    {
      "cell_type": "code",
      "source": [],
      "metadata": {
        "id": "P6LKHEkJ1tQZ"
      },
      "execution_count": null,
      "outputs": []
    },
    {
      "cell_type": "markdown",
      "source": [
        "text = \"hello world\"\n",
        "Find character count and return a dictionary"
      ],
      "metadata": {
        "id": "d1oYeMPP3Tr-"
      }
    },
    {
      "cell_type": "code",
      "source": [
        "text = \"hello world\"\n",
        "\n",
        "char_count = {}\n",
        "for i in text:\n",
        "  if i in char_count:\n",
        "    char_count[i] += 1\n",
        "  else:\n",
        "    char_count[i] = 1\n",
        "\n",
        "print(char_count)\n",
        "\n",
        "\n"
      ],
      "metadata": {
        "colab": {
          "base_uri": "https://localhost:8080/"
        },
        "id": "qVYaYO1O1tDN",
        "outputId": "0cc62c59-ca6e-4e6d-e012-248e4472e2e3"
      },
      "execution_count": 77,
      "outputs": [
        {
          "output_type": "stream",
          "name": "stdout",
          "text": [
            "{'h': 1, 'e': 1, 'l': 3, 'o': 2, ' ': 1, 'w': 1, 'r': 1, 'd': 1}\n"
          ]
        }
      ]
    },
    {
      "cell_type": "markdown",
      "metadata": {
        "id": "98e4937a"
      },
      "source": [
        "## Initialize an empty dictionary\n",
        "\n",
        "### Subtask:\n",
        "Create an empty dictionary called `char_count` to store the counts of each character in the string."
      ]
    },
    {
      "cell_type": "markdown",
      "metadata": {
        "id": "93b69e57"
      },
      "source": [
        "**Reasoning**:\n",
        "Initialize an empty dictionary to store the character counts. This dictionary will be updated as we iterate through the string."
      ]
    },
    {
      "cell_type": "code",
      "metadata": {
        "colab": {
          "base_uri": "https://localhost:8080/"
        },
        "id": "f23b392c",
        "outputId": "d7b1615a-4418-437d-b105-327ff1ee2883"
      },
      "source": [
        "char_count = {}\n",
        "print(char_count)"
      ],
      "execution_count": 69,
      "outputs": [
        {
          "output_type": "stream",
          "name": "stdout",
          "text": [
            "{}\n"
          ]
        }
      ]
    },
    {
      "cell_type": "markdown",
      "metadata": {
        "id": "d904ecb7"
      },
      "source": [
        "## Iterate through the string\n",
        "\n",
        "### Subtask:\n",
        "Loop through each character in the `text` string."
      ]
    },
    {
      "cell_type": "markdown",
      "metadata": {
        "id": "3298e6db"
      },
      "source": [
        "**Reasoning**:\n",
        "Iterate through each character in the input string to process it for counting."
      ]
    },
    {
      "cell_type": "code",
      "metadata": {
        "colab": {
          "base_uri": "https://localhost:8080/",
          "height": 176
        },
        "id": "e7558b58",
        "outputId": "de958a3f-b04e-4829-8ce3-cfc373f467c4"
      },
      "source": [
        "for char in text:\n",
        "    # We will add the counting logic in the next step\n",
        "    pass"
      ],
      "execution_count": 70,
      "outputs": [
        {
          "output_type": "error",
          "ename": "NameError",
          "evalue": "name 'text' is not defined",
          "traceback": [
            "\u001b[0;31m---------------------------------------------------------------------------\u001b[0m",
            "\u001b[0;31mNameError\u001b[0m                                 Traceback (most recent call last)",
            "\u001b[0;32m/tmp/ipython-input-70-1403116385.py\u001b[0m in \u001b[0;36m<cell line: 0>\u001b[0;34m()\u001b[0m\n\u001b[0;32m----> 1\u001b[0;31m \u001b[0;32mfor\u001b[0m \u001b[0mchar\u001b[0m \u001b[0;32min\u001b[0m \u001b[0mtext\u001b[0m\u001b[0;34m:\u001b[0m\u001b[0;34m\u001b[0m\u001b[0;34m\u001b[0m\u001b[0m\n\u001b[0m\u001b[1;32m      2\u001b[0m     \u001b[0;31m# We will add the counting logic in the next step\u001b[0m\u001b[0;34m\u001b[0m\u001b[0;34m\u001b[0m\u001b[0m\n\u001b[1;32m      3\u001b[0m     \u001b[0;32mpass\u001b[0m\u001b[0;34m\u001b[0m\u001b[0;34m\u001b[0m\u001b[0m\n",
            "\u001b[0;31mNameError\u001b[0m: name 'text' is not defined"
          ]
        }
      ]
    },
    {
      "cell_type": "markdown",
      "metadata": {
        "id": "55a933dd"
      },
      "source": [
        "**Reasoning**:\n",
        "The `NameError` occurred because `text` was not defined in the current execution environment. Define the `text` variable before attempting to iterate through it."
      ]
    },
    {
      "cell_type": "code",
      "metadata": {
        "id": "21065813"
      },
      "source": [
        "text = \"hello world\"\n",
        "for char in text:\n",
        "    # We will add the counting logic in the next step\n",
        "    pass"
      ],
      "execution_count": 71,
      "outputs": []
    },
    {
      "cell_type": "markdown",
      "metadata": {
        "id": "8bedca73"
      },
      "source": [
        "## Count characters\n",
        "\n",
        "### Subtask:\n",
        "For each character, check if it's already in the dictionary. If it is, increment its count. If not, add it to the dictionary with a count of 1."
      ]
    },
    {
      "cell_type": "markdown",
      "metadata": {
        "id": "a48d3ee8"
      },
      "source": [
        "**Reasoning**:\n",
        "Implement the counting logic within the loop to populate the `char_count` dictionary."
      ]
    },
    {
      "cell_type": "code",
      "metadata": {
        "colab": {
          "base_uri": "https://localhost:8080/"
        },
        "id": "1a66e2ce",
        "outputId": "e2ef92de-a340-4590-ffb0-12f8ab6fa9c3"
      },
      "source": [
        "char_count = {}\n",
        "text = \"hello world\" # Redefine text to ensure it's available\n",
        "\n",
        "for char in text:\n",
        "    if char in char_count:\n",
        "        char_count[char] += 1\n",
        "    else:\n",
        "        char_count[char] = 1\n",
        "\n",
        "print(char_count)"
      ],
      "execution_count": 72,
      "outputs": [
        {
          "output_type": "stream",
          "name": "stdout",
          "text": [
            "{'h': 1, 'e': 1, 'l': 3, 'o': 2, ' ': 1, 'w': 1, 'r': 1, 'd': 1}\n"
          ]
        }
      ]
    }
  ]
}